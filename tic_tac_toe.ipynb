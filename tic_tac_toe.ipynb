{
 "cells": [
  {
   "cell_type": "code",
   "execution_count": 1,
   "metadata": {
    "collapsed": true
   },
   "outputs": [],
   "source": [
    "from __future__ import print_function "
   ]
  },
  {
   "cell_type": "code",
   "execution_count": 2,
   "metadata": {
    "collapsed": true
   },
   "outputs": [],
   "source": [
    "from IPython.display import clear_output\n",
    "\n",
    "def ttt_board(board):\n",
    "    \n",
    "    clear_output\n",
    "    print('    |    |')\n",
    "    print(' ' + board[7] + ' | ' + board[8] + ' | ' + board[9])\n",
    "    print('    |    |')\n",
    "    print('-----------')\n",
    "    print('    |    |')\n",
    "    print(' ' + board[4] + ' | ' + board[5] + ' | ' + board[6])\n",
    "    print('    |    |')\n",
    "    print('-----------')\n",
    "    print('    |    |')\n",
    "    print(' ' + borad[1] + ' | ' + board[2] + ' | ' + board[3])\n",
    "    print('    |    |')"
   ]
  },
  {
   "cell_type": "code",
   "execution_count": 3,
   "metadata": {
    "collapsed": true
   },
   "outputs": [],
   "source": [
    "def player_input():\n",
    "    \n",
    "    marker = ''\n",
    "    while not (marker =='x' or marker =='o'):\n",
    "        marker = raw_input('Player 1: Do you want to be x or o ?' ).upper()\n",
    "        \n",
    "    if marker == 'x':\n",
    "        return('x', 'o')\n",
    "    else:\n",
    "        return('o', 'x')\n",
    "    "
   ]
  },
  {
   "cell_type": "code",
   "execution_count": 4,
   "metadata": {
    "collapsed": true
   },
   "outputs": [],
   "source": [
    "def place_marker(board,marker,position):\n",
    "    board[position]=marker"
   ]
  },
  {
   "cell_type": "code",
   "execution_count": 5,
   "metadata": {
    "collapsed": true
   },
   "outputs": [],
   "source": [
    "def win_con(board,marker):\n",
    "    \n",
    "    return( (board[7] == mark and board[8] == mark and board[9] == mark) or\n",
    "           ( board[4] == mark and board[5] == mark and board[6] == mark) or\n",
    "           (board[1] == mark and board[2] == mark and board[3] == mark) or\n",
    "           ( board[7] == mark and board[4] == mark and board[1] == mark) or\n",
    "           ( board[8] == mark and board[5] == mark and board[2] == mark ) or\n",
    "           (board[9] == mark and board[6] == mark and board[3] == mark) or\n",
    "           (board[7] == mark and board[5] == mark and board[3] == mark) or\n",
    "           (board[9] == mark and board[5] == mark and board[1] == mark))"
   ]
  },
  {
   "cell_type": "code",
   "execution_count": 6,
   "metadata": {
    "collapsed": true
   },
   "outputs": [],
   "source": [
    "import random\n",
    "def choose_turn():\n",
    "    if random.randint(0,1) == 0:\n",
    "        return 'Playes 2'\n",
    "    else:\n",
    "        return 'Player 1'\n",
    "    "
   ]
  },
  {
   "cell_type": "code",
   "execution_count": 7,
   "metadata": {
    "collapsed": true
   },
   "outputs": [],
   "source": [
    "def space_check(board,position):\n",
    "    return board[position] == ' '"
   ]
  },
  {
   "cell_type": "code",
   "execution_count": 8,
   "metadata": {
    "collapsed": true
   },
   "outputs": [],
   "source": [
    "def full_board_con():\n",
    "    # use string because of raw_input\n",
    "    position = ' '\n",
    "    \n",
    "    while position not in '1 2 3 4 5 6 7 8 9'.split() or not space_check(board,int(position)):\n",
    "        \n",
    "        position = raw_input('Choose your position b/w 1 to 9')\n",
    "        \n",
    "        return int(position)\n",
    "    \n",
    "    \n",
    "        "
   ]
  },
  {
   "cell_type": "code",
   "execution_count": 9,
   "metadata": {
    "collapsed": true
   },
   "outputs": [],
   "source": [
    "def play_again():\n",
    "    \n",
    "    return raw_input('Do you want to play again? Enter Yes or No ').lower().startswith('y')"
   ]
  },
  {
   "cell_type": "code",
   "execution_count": 12,
   "metadata": {},
   "outputs": [
    {
     "ename": "IndentationError",
     "evalue": "unindent does not match any outer indentation level (<ipython-input-12-a836a41c4ac4>, line 21)",
     "output_type": "error",
     "traceback": [
      "\u001b[1;36m  File \u001b[1;32m\"<ipython-input-12-a836a41c4ac4>\"\u001b[1;36m, line \u001b[1;32m21\u001b[0m\n\u001b[1;33m    place_marker(theboard,player1_marker,position)\u001b[0m\n\u001b[1;37m                                                  ^\u001b[0m\n\u001b[1;31mIndentationError\u001b[0m\u001b[1;31m:\u001b[0m unindent does not match any outer indentation level\n"
     ]
    }
   ],
   "source": [
    "print('Tic Tac Toe Game')\n",
    "\n",
    "while True:\n",
    "    \n",
    "    theboard = [' ']*10\n",
    "    player1_marker,player2_marker = player_input()\n",
    "    \n",
    "    turn = choose_turn()\n",
    "    \n",
    "    print(turn + 'Will go first')\n",
    "    game_on = True\n",
    "    \n",
    "    while game_on:\n",
    "        \n",
    "        if turn == 'Player 1':\n",
    "        \n",
    "                  #PLAYER 1 TURN\n",
    "        \n",
    "             display_board(theboard)\n",
    "             position = player_input(theboard)\n",
    "            place_marker(theboard,player1_marker,position)\n",
    "        \n",
    "        if win_con(theboard,player1_marker):\n",
    "            print('CONGO!! You won the game.')\n",
    "            game_on = False\n",
    "            \n",
    "        else: \n",
    "            if full_board_con(theboard)\n",
    "            display_board(theboard)\n",
    "            print('The game is draw')\n",
    "            break\n",
    "            \n",
    "        else:\n",
    "            turn = 'Player 2'\n",
    "            \n",
    "            \n",
    "        else:\n",
    "            \n",
    "            #PLAYER 2 TURN\n",
    "            \n",
    "            display_board(theboard)\n",
    "            position = player_input(theboard)\n",
    "            place_marker(theboard,player2_marker,position)\n",
    "            \n",
    "            if win_con(theboard,player2_marker)\n",
    "               display_board(theboard)\n",
    "                print('Player 2 won!!')\n",
    "                game_on = False\n",
    "                \n",
    "            else:\n",
    "                if full_board_con(theboard):\n",
    "                    display_board(theboard)\n",
    "                    print('The game is tie!!')\n",
    "                    break\n",
    "            else:\n",
    "                turn = 'Player 1'\n",
    "\n",
    "                \n",
    "    if not play_again():\n",
    "        break\n",
    "    "
   ]
  },
  {
   "cell_type": "code",
   "execution_count": null,
   "metadata": {
    "collapsed": true
   },
   "outputs": [],
   "source": []
  }
 ],
 "metadata": {
  "kernelspec": {
   "display_name": "Python 2",
   "language": "python",
   "name": "python2"
  },
  "language_info": {
   "codemirror_mode": {
    "name": "ipython",
    "version": 2
   },
   "file_extension": ".py",
   "mimetype": "text/x-python",
   "name": "python",
   "nbconvert_exporter": "python",
   "pygments_lexer": "ipython2",
   "version": "2.7.13"
  }
 },
 "nbformat": 4,
 "nbformat_minor": 2
}
